{
 "cells": [
  {
   "cell_type": "markdown",
   "metadata": {},
   "source": [
    "<center>\n",
    "    <img src=\"https://cf-courses-data.s3.us.cloud-object-storage.appdomain.cloud/IBMDeveloperSkillsNetwork-DS0105EN-SkillsNetwork/labs/Module2/images/SN_web_lightmode.png\" width=\"300\" alt=\"cognitiveclass.ai logo\">\n",
    "</center>\n"
   ]
  },
  {
   "cell_type": "markdown",
   "metadata": {},
   "source": [
    "# Data Science Tools and Ecosystem"
   ]
  },
  {
   "cell_type": "markdown",
   "metadata": {
    "tags": []
   },
   "source": [
    "In this notebook, Data Science Tools and Ecosystem are summarized."
   ]
  },
  {
   "cell_type": "markdown",
   "metadata": {
    "tags": []
   },
   "source": [
    "##### Some of the popular languages that Data Scientists use are:"
   ]
  },
  {
   "cell_type": "markdown",
   "metadata": {},
   "source": [
    "1. Python\n",
    "2. R\n",
    "3. SQL"
   ]
  },
  {
   "cell_type": "markdown",
   "metadata": {},
   "source": [
    "##### Some of the commonly used libraries used by Data Scientists include:"
   ]
  },
  {
   "cell_type": "markdown",
   "metadata": {},
   "source": [
    "1. Numpy\n",
    "2. Pandas\n",
    "3. TemsorFlow"
   ]
  },
  {
   "cell_type": "markdown",
   "metadata": {},
   "source": [
    "| Data Science Tools | \n",
    "| -------------|\n",
    "| Jupyter Notebook | \n",
    "| RStudio | \n",
    "| Visual Studio Code | "
   ]
  },
  {
   "cell_type": "markdown",
   "metadata": {},
   "source": [
    "### Below are a few examples of evaluating arithmetic expressions in Python"
   ]
  },
  {
   "cell_type": "markdown",
   "metadata": {},
   "source": [
    "1. 3+5\n",
    "2. 2+3*4\n",
    "3. 5-2\n",
    "4. 5*2"
   ]
  },
  {
   "cell_type": "code",
   "execution_count": 3,
   "metadata": {
    "tags": []
   },
   "outputs": [
    {
     "data": {
      "text/plain": [
       "17"
      ]
     },
     "execution_count": 3,
     "metadata": {},
     "output_type": "execute_result"
    }
   ],
   "source": [
    "#This a simple arithmetic expression to mutiply then add integers\n",
    "(3*4)+5"
   ]
  },
  {
   "cell_type": "code",
   "execution_count": 4,
   "metadata": {
    "tags": []
   },
   "outputs": [
    {
     "data": {
      "text/plain": [
       "3.3333333333333335"
      ]
     },
     "execution_count": 4,
     "metadata": {},
     "output_type": "execute_result"
    }
   ],
   "source": [
    "#This will convert 200 minutes to hours by diving by 60\n",
    "200/60"
   ]
  },
  {
   "cell_type": "markdown",
   "metadata": {},
   "source": [
    "**Objectives:**\n"
   ]
  },
  {
   "cell_type": "markdown",
   "metadata": {},
   "source": [
    "Jupyter Notebook Provide an interactive computing environment for data analysis, visualization, and experimentation.\n",
    "Enable the creation and sharing of documents containing live code, equations, visualizations, and narrative text.\n",
    "Facilitate reproducible research and collaboration by combining code, visualizations, and explanations in a single document.\n",
    "R Provide a language and environment for statistical computing and graphics.\n",
    "Support a wide range of statistical and data analysis techniques.\n",
    "Enable data manipulation, modeling, visualization, and reporting.\n",
    "Promote reproducibility and the sharing of statistical analyses and research.\n",
    "Python Offer a general-purpose programming language with a simple syntax and readability.\n",
    "Provide a rich ecosystem of libraries and frameworks for data analysis, machine learning, and scientific computing.\n",
    "Support data manipulation, statistical analysis, visualization, and machine learning tasks.\n",
    "Facilitate integration with other languages and tools, enabling scalable data processing and production deployments.\n",
    "SQL Provide a standardized language for managing and querying relational databases.\n",
    "Enable the creation, modification, and retrieval of structured data.\n",
    "Support data manipulation, aggregation, filtering, and joining operations.\n",
    "Facilitate efficient data storage and retrieval for applications and data analysis.\n",
    "Data Science Tools and Ecosystem Provide a comprehensive set of libraries, frameworks, and tools for various stages of the data science workflow.\n",
    "Enable data collection, preprocessing, exploration, modeling, evaluation, and deployment of machine learning models.\n",
    "Facilitate visualization and communication of data insights and results.\n",
    "Support collaboration, reproducibility, and scalability in data science projects.\n",
    "Foster a vibrant community of practitioners, researchers, and developers contributing to the development and advancement of data science.\n",
    "Overall, the objectives of these tools and ecosystems are to provide powerful and flexible environments for data analysis, modeling, visualization, and collaboration, while promoting reproducibility, scalability, and the advancement of the data science field."
   ]
  },
  {
   "cell_type": "markdown",
   "metadata": {},
   "source": [
    "List popular languages for Data Science\n",
    "\n",
    "* Python\n",
    "* R\n",
    "* SQL\n",
    "* Julia\n",
    "* Scala\n",
    "* Java"
   ]
  },
  {
   "cell_type": "markdown",
   "metadata": {},
   "source": [
    "## Author\n",
    "Sebastian Vishwas Kumar B S"
   ]
  },
  {
   "cell_type": "code",
   "execution_count": null,
   "metadata": {},
   "outputs": [],
   "source": []
  }
 ],
 "metadata": {
  "kernelspec": {
   "display_name": "Python",
   "language": "python",
   "name": "conda-env-python-py"
  },
  "language_info": {
   "codemirror_mode": {
    "name": "ipython",
    "version": 3
   },
   "file_extension": ".py",
   "mimetype": "text/x-python",
   "name": "python",
   "nbconvert_exporter": "python",
   "pygments_lexer": "ipython3",
   "version": "3.7.12"
  }
 },
 "nbformat": 4,
 "nbformat_minor": 4
}
